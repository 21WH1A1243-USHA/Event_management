{
  "nbformat": 4,
  "nbformat_minor": 0,
  "metadata": {
    "colab": {
      "provenance": [],
      "authorship_tag": "ABX9TyOim5ixfeB9AEvrfJtfzGfD",
      "include_colab_link": true
    },
    "kernelspec": {
      "name": "python3",
      "display_name": "Python 3"
    },
    "language_info": {
      "name": "python"
    }
  },
  "cells": [
    {
      "cell_type": "markdown",
      "metadata": {
        "id": "view-in-github",
        "colab_type": "text"
      },
      "source": [
        "<a href=\"https://colab.research.google.com/github/21WH1A1243-USHA/Event_management/blob/main/test_candidate.ipynb\" target=\"_parent\"><img src=\"https://colab.research.google.com/assets/colab-badge.svg\" alt=\"Open In Colab\"/></a>"
      ]
    },
    {
      "cell_type": "code",
      "source": [
        "# Place this at the top of your notebook in a separate cell\n",
        "from IPython.display import display, Javascript\n",
        "\n",
        "def run_all():\n",
        "    display(Javascript('google.colab.kernel.executeCells([1])'))  # run the 2nd cell (index starts at 0)\n",
        "\n",
        "run_all()\n"
      ],
      "metadata": {
        "id": "lzZrsKGuCf-i"
      },
      "execution_count": null,
      "outputs": []
    },
    {
      "cell_type": "code",
      "source": [
        "print(\"hi\")"
      ],
      "metadata": {
        "id": "fPVcBmhXMj2w"
      },
      "execution_count": null,
      "outputs": []
    }
  ]
}